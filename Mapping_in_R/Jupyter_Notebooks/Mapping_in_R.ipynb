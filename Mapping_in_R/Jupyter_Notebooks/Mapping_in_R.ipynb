{
 "cells": [
  {
   "cell_type": "markdown",
   "metadata": {},
   "source": [
    "# Title: Mapping in R\n",
    "### Authors: Richard Johansen\n",
    "### University of Cincinnati Libraries\n",
    "### 4/18/2019"
   ]
  },
  {
   "cell_type": "markdown",
   "metadata": {},
   "source": [
    "### REFERENCES:\n",
    "Code: https://github.com/RAJohansen/UCL_Workshops/tree/master/Mapping_in_R\n",
    "Data: www.gapminder.org/data/\n",
    "Geocomputation in R: https://geocompr.robinlovelace.net/ "
   ]
  },
  {
   "cell_type": "markdown",
   "metadata": {},
   "source": [
    "### Section I: Introduction to R"
   ]
  },
  {
   "cell_type": "markdown",
   "metadata": {},
   "source": [
    "#### Step 1: Load Required Packages"
   ]
  },
  {
   "cell_type": "code",
   "execution_count": null,
   "metadata": {},
   "outputs": [],
   "source": [
    "# install.packages(c(\"tidyverse\",\"gapminder\", \"maptools\",\"tmap\", \"marmap\", \"spData\", \"spDataLarge\", \"spDataLarge\"))\n",
    "\n",
    "library(tidyverse)\n",
    "library(tmap)\n",
    "library(leaflet)\n",
    "library(spData)\n",
    "library(lattice)\n",
    "library(maptools)\n",
    "library(gapminder)"
   ]
  },
  {
   "cell_type": "markdown",
   "metadata": {},
   "source": [
    "#### Step 2: Create an R Object (data frame) from the data _gapminder_"
   ]
  },
  {
   "cell_type": "code",
   "execution_count": null,
   "metadata": {},
   "outputs": [],
   "source": [
    "df <- gapminder"
   ]
  },
  {
   "cell_type": "markdown",
   "metadata": {},
   "source": [
    "#### Step 3: Explore the dataframe _df_ \n",
    "\n",
    "1. How many variables are in the data?\n",
    "2. How many observations are there in the data?\n",
    "3. What type of data is this?\n",
    "4. Do you have expectations at this point?"
   ]
  },
  {
   "cell_type": "code",
   "execution_count": null,
   "metadata": {},
   "outputs": [],
   "source": [
    "str(df)\n",
    "head(df)\n",
    "tail(df)"
   ]
  },
  {
   "cell_type": "markdown",
   "metadata": {},
   "source": [
    "We can create a table to quickly view the number of observations for each continent"
   ]
  },
  {
   "cell_type": "code",
   "execution_count": null,
   "metadata": {},
   "outputs": [],
   "source": [
    "table(df$continent)"
   ]
  },
  {
   "cell_type": "markdown",
   "metadata": {},
   "source": [
    "Always use the summary tool to explore new data to get a quantitative overview of the data"
   ]
  },
  {
   "cell_type": "code",
   "execution_count": null,
   "metadata": {},
   "outputs": [],
   "source": [
    "summary(df)"
   ]
  },
  {
   "cell_type": "markdown",
   "metadata": {},
   "source": [
    "#### Step 4: Visualization in R"
   ]
  },
  {
   "cell_type": "markdown",
   "metadata": {},
   "source": [
    "Using the _plot_ to visualize life expectancy by country"
   ]
  },
  {
   "cell_type": "code",
   "execution_count": null,
   "metadata": {},
   "outputs": [],
   "source": [
    "plot(lifeExp ~ year, gapminder, subset = country == \"Afghanistan\", type = \"b\")\n",
    "plot(lifeExp ~ year, gapminder, subset = country == \"United States\", type = \"b\")"
   ]
  },
  {
   "cell_type": "markdown",
   "metadata": {},
   "source": [
    "We can add a second variable to plot life expectancy and GDP"
   ]
  },
  {
   "cell_type": "code",
   "execution_count": null,
   "metadata": {},
   "outputs": [],
   "source": [
    "plot(lifeExp ~ gdpPercap, gapminder, subset = year == 2007)"
   ]
  },
  {
   "cell_type": "markdown",
   "metadata": {},
   "source": [
    "What if we change the X-axis scale to log?"
   ]
  },
  {
   "cell_type": "code",
   "execution_count": null,
   "metadata": {},
   "outputs": [],
   "source": [
    "plot(lifeExp ~ gdpPercap, gapminder, subset = year == 2007, log = \"x\")"
   ]
  },
  {
   "cell_type": "markdown",
   "metadata": {},
   "source": [
    "__CAUTION:__ Visualizing information in different ways can lead readers to different interpretations"
   ]
  },
  {
   "cell_type": "markdown",
   "metadata": {},
   "source": [
    "Use boxplots to visualize grouped data"
   ]
  },
  {
   "cell_type": "code",
   "execution_count": null,
   "metadata": {},
   "outputs": [],
   "source": [
    "boxplot(df$lifeExp ~ df$continent)\n",
    "boxplot(df$gdpPercap ~ df$continent, log = \"y\")"
   ]
  },
  {
   "cell_type": "code",
   "execution_count": null,
   "metadata": {},
   "outputs": [],
   "source": [
    "par(mfrow=c(1,2))\n",
    "boxplot(df$lifeExp ~ df$continent)\n",
    "boxplot(df$gdpPercap ~ df$continent, log = \"y\")"
   ]
  },
  {
   "cell_type": "markdown",
   "metadata": {},
   "source": [
    "### Section II: Mapping with base plot"
   ]
  },
  {
   "cell_type": "markdown",
   "metadata": {},
   "source": [
    "Base plotting is a simple less sophicated way to make maps in R"
   ]
  },
  {
   "cell_type": "markdown",
   "metadata": {},
   "source": [
    "#### Step 1: Load a basemap from the _maptools_ package"
   ]
  },
  {
   "cell_type": "code",
   "execution_count": null,
   "metadata": {},
   "outputs": [],
   "source": [
    "data(\"wrld_simpl\")"
   ]
  },
  {
   "cell_type": "markdown",
   "metadata": {},
   "source": [
    "#### Step 2: Plot the basemap"
   ]
  },
  {
   "cell_type": "code",
   "execution_count": null,
   "metadata": {},
   "outputs": [],
   "source": [
    "plot(wrld_simpl)"
   ]
  },
  {
   "cell_type": "markdown",
   "metadata": {},
   "source": [
    "#### Step 3: Define the extent manually using _xlim_ & _ylim_"
   ]
  },
  {
   "cell_type": "code",
   "execution_count": null,
   "metadata": {},
   "outputs": [],
   "source": [
    "plot(wrld_simpl,\n",
    "     xlim=c(-130,-60),\n",
    "     ylim=c(25,50))"
   ]
  },
  {
   "cell_type": "markdown",
   "metadata": {},
   "source": [
    "#### Step 4: Add colors to countries & background by using the _col_ & _bg_ functions"
   ]
  },
  {
   "cell_type": "code",
   "execution_count": null,
   "metadata": {},
   "outputs": [],
   "source": [
    "plot(wrld_simpl,\n",
    "     xlim=c(-130,-60),\n",
    "     ylim=c(25,50),\n",
    "     col='olivedrab3', #Countries\n",
    "     bg='lightblue') #***Background in this case thats the ocean"
   ]
  },
  {
   "cell_type": "markdown",
   "metadata": {},
   "source": [
    "#### Step 5: Add \"UC\" to our map by using defining the Lat and Long"
   ]
  },
  {
   "cell_type": "code",
   "execution_count": null,
   "metadata": {},
   "outputs": [],
   "source": [
    "plot(wrld_simpl,\n",
    "     xlim=c(-130,-60),\n",
    "     ylim=c(25,50),\n",
    "     col='olivedrab3', #Countries\n",
    "     bg='lightblue') #***Background in this case thats the ocean\n",
    "\n",
    "coords <- matrix(c(-84.518986, 39.132979),ncol=2)\n",
    "coords <- coordinates(coords)\n",
    "spoints <- SpatialPoints(coords)\n",
    "df <- data.frame(location=c(\"UC\"))\n",
    "spointsdf <- SpatialPointsDataFrame(spoints,df)\n",
    "plot(spointsdf,add=T,col=c('red'),pch=16) # add = T; adds this to existing plot"
   ]
  },
  {
   "cell_type": "markdown",
   "metadata": {},
   "source": [
    "### Section III: Mapping with tmap"
   ]
  },
  {
   "cell_type": "markdown",
   "metadata": {},
   "source": [
    "#### Step 1: Load the _world_ basemap"
   ]
  },
  {
   "cell_type": "code",
   "execution_count": null,
   "metadata": {},
   "outputs": [],
   "source": [
    "world <- world"
   ]
  },
  {
   "cell_type": "markdown",
   "metadata": {},
   "source": [
    "Explore the variables of the _world_ data"
   ]
  },
  {
   "cell_type": "code",
   "execution_count": null,
   "metadata": {},
   "outputs": [],
   "source": [
    "names(world)"
   ]
  },
  {
   "cell_type": "markdown",
   "metadata": {},
   "source": [
    "#### Step 2: Plot the _world_ data using  tmap\n"
   ]
  },
  {
   "cell_type": "markdown",
   "metadata": {},
   "source": [
    "The tmap package uses a \"layer cake\" style programming to build visualizations. <br>\n",
    "We start with a filled shape and then add elements to increase complexity"
   ]
  },
  {
   "cell_type": "code",
   "execution_count": null,
   "metadata": {
    "scrolled": true
   },
   "outputs": [],
   "source": [
    "tm_shape(world) +\n",
    "  tm_fill()"
   ]
  },
  {
   "cell_type": "code",
   "execution_count": null,
   "metadata": {},
   "outputs": [],
   "source": [
    "tm_shape(world) +\n",
    "  tm_fill() + \n",
    "  tm_borders() "
   ]
  },
  {
   "cell_type": "markdown",
   "metadata": {},
   "source": [
    "#### Step 3: Create a thematic map using population density\n",
    "Default style is pretty (rounded numbers)"
   ]
  },
  {
   "cell_type": "code",
   "execution_count": null,
   "metadata": {},
   "outputs": [],
   "source": [
    "tm_shape(world) +\n",
    "  tm_fill(col = \"pop\") + \n",
    "  tm_borders() "
   ]
  },
  {
   "cell_type": "markdown",
   "metadata": {},
   "source": [
    "#### Step 4: Explore thematic styles\n",
    "\n",
    "1. define number of groups by using _n = _\n",
    "2. Manually define breaks using _breaks = _\n",
    "3. Or you can define a style such as _jenks_, _cont_, or _cat_"
   ]
  },
  {
   "cell_type": "code",
   "execution_count": null,
   "metadata": {},
   "outputs": [],
   "source": [
    "tm_shape(world) +\n",
    "  tm_fill(col = \"pop\", n =  5) + \n",
    "  tm_borders() "
   ]
  },
  {
   "cell_type": "code",
   "execution_count": null,
   "metadata": {},
   "outputs": [],
   "source": [
    "breaks = c(0,10^6, 10^7, 10^8, 10^9, 10^10)\n",
    "tm_shape(world) +\n",
    "  tm_fill(col = \"pop\", breaks = breaks) + \n",
    "  tm_borders() "
   ]
  },
  {
   "cell_type": "code",
   "execution_count": null,
   "metadata": {},
   "outputs": [],
   "source": [
    "tm_shape(world) +\n",
    "  tm_fill(col = \"pop\", style = \"jenks\") + \n",
    "  tm_borders() "
   ]
  },
  {
   "cell_type": "code",
   "execution_count": null,
   "metadata": {},
   "outputs": [],
   "source": [
    "tm_shape(world) +\n",
    "  tm_fill(col = \"pop\", style = \"cont\") + \n",
    "  tm_borders() "
   ]
  },
  {
   "cell_type": "code",
   "execution_count": null,
   "metadata": {},
   "outputs": [],
   "source": [
    "tm_shape(world) +\n",
    "  tm_fill(col = \"continent\", style = \"cat\") + \n",
    "  tm_borders()"
   ]
  },
  {
   "cell_type": "markdown",
   "metadata": {},
   "source": [
    "#### Step 5: Explore palattes"
   ]
  },
  {
   "cell_type": "code",
   "execution_count": null,
   "metadata": {},
   "outputs": [],
   "source": [
    "#tmaptools::palette_explorer()\n",
    "?palette"
   ]
  },
  {
   "cell_type": "code",
   "execution_count": null,
   "metadata": {},
   "outputs": [],
   "source": [
    "tm_shape(world) +\n",
    "  tm_fill(col = \"pop\", style = \"cont\", palette = \"magma\") + \n",
    "  tm_borders() "
   ]
  },
  {
   "cell_type": "markdown",
   "metadata": {},
   "source": [
    "#### Step 6: Add cartographic elements"
   ]
  },
  {
   "cell_type": "code",
   "execution_count": null,
   "metadata": {},
   "outputs": [],
   "source": [
    "tm_shape(world) +\n",
    "  tm_fill(col = \"continent\", style = \"cat\") + \n",
    "  tm_borders() +\n",
    "  tm_layout(title = \"World Countries by Continent\",\n",
    "            title.size = 2,\n",
    "            frame = FALSE,\n",
    "            inner.margins = 0.1,\n",
    "            legend.title.size = 1,\n",
    "            legend.text.size = 0.75,\n",
    "            legend.outside = TRUE) +\n",
    "  tm_compass(type = \"arrow\", position = c(\"right\", \"top\"), size = 1) +\n",
    "  tm_scale_bar(breaks = c(0, 5000, 10000),size = 0.5, position = c(0.6,0.075))\n"
   ]
  },
  {
   "cell_type": "markdown",
   "metadata": {},
   "source": [
    "Mapping a globe color coded by continent isn't helpful, so lets use the same technique above to map life expectancy "
   ]
  },
  {
   "cell_type": "code",
   "execution_count": null,
   "metadata": {},
   "outputs": [],
   "source": [
    "tm_shape(world) +\n",
    "  tm_fill(col = \"lifeExp\", style = \"cont\", colorNA = NULL) + \n",
    "  tm_borders() +\n",
    "  tm_layout(title = \"Life Expectancies by Country\",\n",
    "            title.size = 2,\n",
    "            frame = FALSE,\n",
    "            inner.margins = 0.1,\n",
    "            legend.title.size = 1,\n",
    "            legend.text.size = 0.75,\n",
    "            legend.outside = TRUE) +\n",
    "  tm_compass(type = \"arrow\", position = c(\"right\", \"top\"), size = 1) +\n",
    "  tm_scale_bar(breaks = c(0, 5000, 10000),size = 0.5, position = c(0.6,0.075))"
   ]
  }
 ],
 "metadata": {
  "kernelspec": {
   "display_name": "R",
   "language": "R",
   "name": "ir"
  },
  "language_info": {
   "codemirror_mode": "r",
   "file_extension": ".r",
   "mimetype": "text/x-r-source",
   "name": "R",
   "pygments_lexer": "r",
   "version": "3.5.3"
  }
 },
 "nbformat": 4,
 "nbformat_minor": 2
}
