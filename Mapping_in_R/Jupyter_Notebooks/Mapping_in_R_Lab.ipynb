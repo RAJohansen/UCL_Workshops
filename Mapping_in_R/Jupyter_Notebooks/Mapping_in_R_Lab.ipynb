{
 "cells": [
  {
   "cell_type": "markdown",
   "metadata": {},
   "source": [
    "# Title: Mapping in R Lab\n",
    "### Authors: Richard Johansen\n",
    "### University of Cincinnati Libraries\n",
    "### 4/18/2019"
   ]
  },
  {
   "cell_type": "markdown",
   "metadata": {},
   "source": [
    "### REFERENCES:\n",
    "Code: https://github.com/RAJohansen/UCL_Workshops/tree/master/Mapping_in_R\n",
    "Data: www.gapminder.org/data/\n",
    "Geocomputation in R: https://geocompr.robinlovelace.net/ "
   ]
  },
  {
   "cell_type": "markdown",
   "metadata": {},
   "source": [
    "## Step #1: Load required packages (These are just a few to get you started)"
   ]
  },
  {
   "cell_type": "code",
   "execution_count": null,
   "metadata": {},
   "outputs": [],
   "source": [
    "library(tidyverse)\n",
    "library(tmap)\n",
    "library(sf)"
   ]
  },
  {
   "cell_type": "markdown",
   "metadata": {},
   "source": [
    "## Step #2: Import spatial object (Shapefile)"
   ]
  },
  {
   "cell_type": "code",
   "execution_count": null,
   "metadata": {},
   "outputs": [],
   "source": [
    "shapefile <-  st_read(\"Data/us_states.shp\")"
   ]
  },
  {
   "cell_type": "markdown",
   "metadata": {},
   "source": [
    "### Step 3: Import non-spatial data frame\n",
    "__HINT:__ Use the \"foreign\" package and the \"read.dbf\" function to load the census dbf file"
   ]
  },
  {
   "cell_type": "code",
   "execution_count": null,
   "metadata": {},
   "outputs": [],
   "source": [
    "df <- foreign::read.dbf(\"Data/census.dbf\") # Data from external source"
   ]
  },
  {
   "cell_type": "markdown",
   "metadata": {},
   "source": [
    "### Step 4: Join spatial object and data frame\n",
    "__Hint:__ Just like in ArcGIS the join fields have to be identical\n",
    "If they don't share a common field name, you must create one."
   ]
  },
  {
   "cell_type": "code",
   "execution_count": null,
   "metadata": {},
   "outputs": [],
   "source": [
    "#df$join_name <- df$name\n",
    "df$ST_FIPS <- df$STATE_FIPS"
   ]
  },
  {
   "cell_type": "code",
   "execution_count": null,
   "metadata": {},
   "outputs": [],
   "source": [
    "States_Census <- merge(shapefile,df, by = \"ST_FIPS\")"
   ]
  },
  {
   "cell_type": "markdown",
   "metadata": {},
   "source": [
    "### Step 5: Create thematic map using tmap\n",
    "__Hint:__ See \"Mapping in R\" script for help"
   ]
  },
  {
   "cell_type": "code",
   "execution_count": null,
   "metadata": {},
   "outputs": [],
   "source": [
    "\n",
    "\n",
    ""
   ]
  }
 ],
 "metadata": {
  "kernelspec": {
   "display_name": "R",
   "language": "R",
   "name": "ir"
  },
  "language_info": {
   "codemirror_mode": "r",
   "file_extension": ".r",
   "mimetype": "text/x-r-source",
   "name": "R",
   "pygments_lexer": "r",
   "version": "3.5.3"
  }
 },
 "nbformat": 4,
 "nbformat_minor": 2
}
